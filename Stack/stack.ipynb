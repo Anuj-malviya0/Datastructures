{
 "cells": [
  {
   "cell_type": "code",
   "execution_count": 1,
   "id": "wrong-stationery",
   "metadata": {},
   "outputs": [],
   "source": [
    "#creating stack \n",
    "class stack():\n",
    "    '''This objects uses list to implement stack '''\n",
    "    #creating constructor\n",
    "    def __init__(self):        \n",
    "        self.items = []\n",
    "        self.top = 0\n",
    "    #creating push method \n",
    "    def push(self,value):\n",
    "        '''inserts a element in to top of stack'''\n",
    "        self.items.append(value)\n",
    "        self.top = self.items[-1]\n",
    "    #creating pop method\n",
    "    def pop(self):\n",
    "        '''deletes a element from top of stack'''\n",
    "        self.items.pop()\n",
    "        '''if stack is empty then top will have null value'''\n",
    "        if self.items:\n",
    "            self.top = self.items[-1]\n",
    "        else:\n",
    "            self.top = None\n",
    "        \n",
    "    \n",
    "    \n",
    "  \n",
    "        \n"
   ]
  }
 ],
 "metadata": {
  "kernelspec": {
   "display_name": "Python 3",
   "language": "python",
   "name": "python3"
  },
  "language_info": {
   "codemirror_mode": {
    "name": "ipython",
    "version": 3
   },
   "file_extension": ".py",
   "mimetype": "text/x-python",
   "name": "python",
   "nbconvert_exporter": "python",
   "pygments_lexer": "ipython3",
   "version": "3.9.1"
  }
 },
 "nbformat": 4,
 "nbformat_minor": 5
}
