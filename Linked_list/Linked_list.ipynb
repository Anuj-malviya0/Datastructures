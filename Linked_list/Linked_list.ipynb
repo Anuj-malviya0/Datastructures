{
 "cells": [
  {
   "cell_type": "code",
   "execution_count": 1,
   "id": "extra-polymer",
   "metadata": {},
   "outputs": [
    {
     "name": "stdout",
     "output_type": "stream",
     "text": [
      "10 ->\n",
      "20 ->\n",
      "Null\n",
      "10\n",
      "20\n"
     ]
    }
   ],
   "source": [
    "#creating a object node\n",
    "class Node:\n",
    "    #node has two attributes value and Reference \n",
    "    def __init__(self,value,ref = None):\n",
    "        self.value = value\n",
    "        self.ref = ref\n",
    "    #This method will link two nodes \n",
    "    def link(self,Node):\n",
    "        self.ref = Node\n",
    "    #This traverrs the whole list with while loop\n",
    "    def traverse(self):\n",
    "        while True:\n",
    "            print(self.value,'->')\n",
    "            if self.ref is None:\n",
    "                print('Null')\n",
    "                break\n",
    "            self = self.ref\n",
    "node1 = Node(10)\n",
    "node2 = Node(20)\n",
    "node1.link(node2)\n",
    "node1.traverse()\n",
    "print(node1.value)\n",
    "print(node2.value)\n"
   ]
  },
  {
   "cell_type": "code",
   "execution_count": null,
   "id": "thousand-miller",
   "metadata": {},
   "outputs": [],
   "source": []
  }
 ],
 "metadata": {
  "kernelspec": {
   "display_name": "Python 3",
   "language": "python",
   "name": "python3"
  },
  "language_info": {
   "codemirror_mode": {
    "name": "ipython",
    "version": 3
   },
   "file_extension": ".py",
   "mimetype": "text/x-python",
   "name": "python",
   "nbconvert_exporter": "python",
   "pygments_lexer": "ipython3",
   "version": "3.9.1"
  }
 },
 "nbformat": 4,
 "nbformat_minor": 5
}
